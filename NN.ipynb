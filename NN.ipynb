{
  "cells": [
    {
      "cell_type": "markdown",
      "metadata": {
        "id": "4fsveFS7ikyu"
      },
      "source": [
        "# Klassifikation mit einem Neuronalen Netz\n",
        "\n",
        "## Trainingsdaten"
      ]
    },
    {
      "cell_type": "code",
      "execution_count": 14,
      "metadata": {
        "id": "bWQuIIshiky6"
      },
      "outputs": [
        {
          "name": "stdout",
          "output_type": "stream",
          "text": [
            "Requirement already satisfied: torch in c:\\users\\sebastian\\appdata\\local\\programs\\python\\python311\\lib\\site-packages (2.0.1)\n",
            "Requirement already satisfied: filelock in c:\\users\\sebastian\\appdata\\local\\programs\\python\\python311\\lib\\site-packages (from torch) (3.12.2)\n",
            "Requirement already satisfied: typing-extensions in c:\\users\\sebastian\\appdata\\local\\programs\\python\\python311\\lib\\site-packages (from torch) (4.7.1)\n",
            "Requirement already satisfied: sympy in c:\\users\\sebastian\\appdata\\local\\programs\\python\\python311\\lib\\site-packages (from torch) (1.12)\n",
            "Requirement already satisfied: networkx in c:\\users\\sebastian\\appdata\\local\\programs\\python\\python311\\lib\\site-packages (from torch) (3.1)\n",
            "Requirement already satisfied: jinja2 in c:\\users\\sebastian\\appdata\\local\\programs\\python\\python311\\lib\\site-packages (from torch) (3.1.2)\n",
            "Requirement already satisfied: MarkupSafe>=2.0 in c:\\users\\sebastian\\appdata\\local\\programs\\python\\python311\\lib\\site-packages (from jinja2->torch) (2.1.3)\n",
            "Requirement already satisfied: mpmath>=0.19 in c:\\users\\sebastian\\appdata\\local\\programs\\python\\python311\\lib\\site-packages (from sympy->torch) (1.3.0)\n",
            "Note: you may need to restart the kernel to use updated packages.\n",
            "Requirement already satisfied: torchvision in c:\\users\\sebastian\\appdata\\local\\programs\\python\\python311\\lib\\site-packages (0.15.2)\n",
            "Requirement already satisfied: numpy in c:\\users\\sebastian\\appdata\\local\\programs\\python\\python311\\lib\\site-packages (from torchvision) (1.25.1)\n",
            "Requirement already satisfied: requests in c:\\users\\sebastian\\appdata\\local\\programs\\python\\python311\\lib\\site-packages (from torchvision) (2.28.2)\n",
            "Requirement already satisfied: torch==2.0.1 in c:\\users\\sebastian\\appdata\\local\\programs\\python\\python311\\lib\\site-packages (from torchvision) (2.0.1)\n",
            "Requirement already satisfied: pillow!=8.3.*,>=5.3.0 in c:\\users\\sebastian\\appdata\\local\\programs\\python\\python311\\lib\\site-packages (from torchvision) (9.2.0)\n",
            "Requirement already satisfied: filelock in c:\\users\\sebastian\\appdata\\local\\programs\\python\\python311\\lib\\site-packages (from torch==2.0.1->torchvision) (3.12.2)\n",
            "Requirement already satisfied: typing-extensions in c:\\users\\sebastian\\appdata\\local\\programs\\python\\python311\\lib\\site-packages (from torch==2.0.1->torchvision) (4.7.1)\n",
            "Requirement already satisfied: sympy in c:\\users\\sebastian\\appdata\\local\\programs\\python\\python311\\lib\\site-packages (from torch==2.0.1->torchvision) (1.12)\n",
            "Requirement already satisfied: networkx in c:\\users\\sebastian\\appdata\\local\\programs\\python\\python311\\lib\\site-packages (from torch==2.0.1->torchvision) (3.1)\n",
            "Requirement already satisfied: jinja2 in c:\\users\\sebastian\\appdata\\local\\programs\\python\\python311\\lib\\site-packages (from torch==2.0.1->torchvision) (3.1.2)\n",
            "Requirement already satisfied: charset-normalizer<4,>=2 in c:\\users\\sebastian\\appdata\\local\\programs\\python\\python311\\lib\\site-packages (from requests->torchvision) (3.1.0)\n",
            "Requirement already satisfied: idna<4,>=2.5 in c:\\users\\sebastian\\appdata\\local\\programs\\python\\python311\\lib\\site-packages (from requests->torchvision) (3.4)\n",
            "Requirement already satisfied: urllib3<1.27,>=1.21.1 in c:\\users\\sebastian\\appdata\\local\\programs\\python\\python311\\lib\\site-packages (from requests->torchvision) (1.26.15)\n",
            "Requirement already satisfied: certifi>=2017.4.17 in c:\\users\\sebastian\\appdata\\local\\programs\\python\\python311\\lib\\site-packages (from requests->torchvision) (2022.12.7)\n",
            "Requirement already satisfied: MarkupSafe>=2.0 in c:\\users\\sebastian\\appdata\\local\\programs\\python\\python311\\lib\\site-packages (from jinja2->torch==2.0.1->torchvision) (2.1.3)\n",
            "Requirement already satisfied: mpmath>=0.19 in c:\\users\\sebastian\\appdata\\local\\programs\\python\\python311\\lib\\site-packages (from sympy->torch==2.0.1->torchvision) (1.3.0)\n",
            "Note: you may need to restart the kernel to use updated packages.\n",
            "Requirement already satisfied: matplotlib in c:\\users\\sebastian\\appdata\\local\\programs\\python\\python311\\lib\\site-packages (3.7.2)\n",
            "Requirement already satisfied: contourpy>=1.0.1 in c:\\users\\sebastian\\appdata\\local\\programs\\python\\python311\\lib\\site-packages (from matplotlib) (1.1.0)\n",
            "Requirement already satisfied: cycler>=0.10 in c:\\users\\sebastian\\appdata\\local\\programs\\python\\python311\\lib\\site-packages (from matplotlib) (0.11.0)\n",
            "Requirement already satisfied: fonttools>=4.22.0 in c:\\users\\sebastian\\appdata\\local\\programs\\python\\python311\\lib\\site-packages (from matplotlib) (4.42.0)\n",
            "Requirement already satisfied: kiwisolver>=1.0.1 in c:\\users\\sebastian\\appdata\\local\\programs\\python\\python311\\lib\\site-packages (from matplotlib) (1.4.4)\n",
            "Requirement already satisfied: numpy>=1.20 in c:\\users\\sebastian\\appdata\\local\\programs\\python\\python311\\lib\\site-packages (from matplotlib) (1.25.1)\n",
            "Requirement already satisfied: packaging>=20.0 in c:\\users\\sebastian\\appdata\\roaming\\python\\python311\\site-packages (from matplotlib) (23.1)\n",
            "Requirement already satisfied: pillow>=6.2.0 in c:\\users\\sebastian\\appdata\\local\\programs\\python\\python311\\lib\\site-packages (from matplotlib) (9.2.0)\n",
            "Requirement already satisfied: pyparsing<3.1,>=2.3.1 in c:\\users\\sebastian\\appdata\\local\\programs\\python\\python311\\lib\\site-packages (from matplotlib) (3.0.9)\n",
            "Requirement already satisfied: python-dateutil>=2.7 in c:\\users\\sebastian\\appdata\\roaming\\python\\python311\\site-packages (from matplotlib) (2.8.2)\n",
            "Requirement already satisfied: six>=1.5 in c:\\users\\sebastian\\appdata\\roaming\\python\\python311\\site-packages (from python-dateutil>=2.7->matplotlib) (1.16.0)\n",
            "Note: you may need to restart the kernel to use updated packages.\n"
          ]
        }
      ],
      "source": [
        "%pip install torch\n",
        "%pip install torchvision\n",
        "%pip install matplotlib"
      ]
    },
    {
      "cell_type": "code",
      "execution_count": 15,
      "metadata": {
        "id": "jux-RX43iky6"
      },
      "outputs": [],
      "source": [
        "# Import necessary libraries/modules\n",
        "from torchvision import datasets, transforms  # Import datasets and transforms from the torchvision library\n",
        "from torch.utils.data import TensorDataset, DataLoader  # Import TensorDataset and DataLoader from torch.utils.data\n",
        "import torch  # Import the main PyTorch library\n",
        "import torch.nn as nn  # Import the neural network module from PyTorch\n",
        "import torch.nn.functional as F  # Import functional components of neural networks from PyTorch\n",
        "import torch.optim as optim  # Import optimization algorithms from PyTorch\n",
        "import matplotlib.pyplot as plt  # Import the matplotlib library for plotting\n",
        "import numpy as np  # Import the NumPy library for numerical operations\n",
        "\n",
        "# Define a function 'load' that loads data from a given file\n",
        "def load(data):\n",
        "    return np.load(data)['arr_0']  # Load data from the specified file using NumPy and return it\n",
        "\n",
        "# Load the training and testing data and labels\n",
        "train_data = load('Data\\K49-data\\k49-train-imgs.npz')  # Load training image data from a file\n",
        "test_data = load('Data\\K49-data\\k49-test-imgs.npz')    # Load testing image data from a file\n",
        "\n",
        "train_labels = load('Data\\K49-data\\k49-train-labels.npz')  # Load training labels from a file\n",
        "test_labels = load('Data\\K49-data\\k49-test-labels.npz')    # Load testing labels from a file\n"
      ]
    },
    {
      "cell_type": "code",
      "execution_count": 16,
      "metadata": {},
      "outputs": [],
      "source": [
        "# Import the csv module for working with CSV files\n",
        "import csv\n",
        "\n",
        "# Define a list of encodings to try\n",
        "encodings_to_try = ['utf-8', 'latin-1', 'iso-8859-1', 'cp1252']\n",
        "\n",
        "# Define a function to load the mapping from the CSV file with various encodings\n",
        "def load_class_mapping(csv_file):\n",
        "    class_mapping = None  # Initialize class_mapping as None\n",
        "\n",
        "    for encoding in encodings_to_try:\n",
        "        try:\n",
        "            class_mapping = {}  # Initialize an empty dictionary to store the mapping\n",
        "\n",
        "            # Open the CSV file specified by csv_file for reading with the current encoding\n",
        "            with open(csv_file, newline='', encoding=encoding) as csvfile:\n",
        "                # Create a CSV reader object that treats the first row as headers and maps columns to keys\n",
        "                csvreader = csv.DictReader(csvfile)\n",
        "\n",
        "                # Iterate through each row (record) in the CSV file\n",
        "                for row in csvreader:\n",
        "                    # Extract the 'index' value from the current row and convert it to an integer\n",
        "                    index = int(row['index'])\n",
        "\n",
        "                    # Extract the 'char' value from the current row\n",
        "                    char = row['char']\n",
        "\n",
        "                    # Add an entry to the class_mapping dictionary, mapping index to char\n",
        "                    class_mapping[index] = char\n",
        "\n",
        "            # If successful, break out of the loop\n",
        "            break\n",
        "        except UnicodeDecodeError:\n",
        "            # If there's a decoding error, try the next encoding in the list\n",
        "            pass\n",
        "\n",
        "    # Check if class_mapping is still None (indicating no successful decoding)\n",
        "    if class_mapping is None:\n",
        "        raise ValueError(\"Unable to decode the CSV file with any of the specified encodings.\")\n",
        "\n",
        "    # Return the populated class_mapping dictionary containing the mapping from index to char\n",
        "    return class_mapping\n",
        "\n",
        "# Specify the path to your CSV file (e.g., \"k49_classmap.csv\")\n",
        "csv_file_path = 'k49_classmap.csv'\n",
        "\n",
        "# Load the class mapping from the specified CSV file by calling the load_class_mapping function\n",
        "class_mapping = load_class_mapping(csv_file_path)\n"
      ]
    },
    {
      "cell_type": "code",
      "execution_count": 17,
      "metadata": {},
      "outputs": [
        {
          "name": "stdout",
          "output_type": "stream",
          "text": [
            "Class index 15 corresponds to character: た\n"
          ]
        }
      ],
      "source": [
        "# Define the class index you want to look up\n",
        "class_index = 15\n",
        "\n",
        "# Check if the class index exists in the class_mapping dictionary\n",
        "if class_index in class_mapping:\n",
        "    # If it exists, retrieve the corresponding character label\n",
        "    character = class_mapping[class_index]\n",
        "\n",
        "    # Print the result\n",
        "    print(f\"Class index {class_index} corresponds to character: {character}\")\n",
        "else:\n",
        "    # If it doesn't exist, print a message indicating that it was not found\n",
        "    print(f\"Class index {class_index} not found in the mapping.\")\n"
      ]
    },
    {
      "cell_type": "markdown",
      "metadata": {
        "id": "JkdXQsEAiky8"
      },
      "source": [
        "## Definition des Neuronalen Netzes"
      ]
    },
    {
      "cell_type": "code",
      "execution_count": 18,
      "metadata": {
        "id": "YNrh6L-Piky8"
      },
      "outputs": [],
      "source": [
        "# Set parameters for the feedforward neural network\n",
        "input_size = 28*28  # Input size is 784 (assuming image size is 28x28 pixels)\n",
        "hidden_size = 4900  # Number of neurons in the hidden layer\n",
        "num_classes = 49    # Number of output classes (categories)\n",
        "num_epochs = 10     # Number of training epochs\n",
        "batch_size = 2048   # Batch size for data processing\n",
        "learning_rate = 0.001  # Learning rate for the optimizer\n",
        "\n",
        "# Convert the training data to the appropriate data type (float32)\n",
        "train_data = train_data.astype(np.float32)\n",
        "\n",
        "# Combine the training data and labels into a PyTorch TensorDataset\n",
        "train_dataset = TensorDataset(torch.tensor(train_data), torch.tensor(train_labels))\n",
        "test_dataset = TensorDataset(torch.tensor(test_data), torch.tensor(test_labels))\n",
        "\n",
        "# Create data loaders for training and testing data\n",
        "train_loader = DataLoader(train_dataset, batch_size=batch_size, shuffle=True)\n",
        "test_loader = DataLoader(test_dataset, batch_size=batch_size, shuffle=False)\n",
        "\n",
        "# Define the architecture of the neural network\n",
        "class NeuralNet(nn.Module):\n",
        "    def __init__(self, input_size, hidden_size, num_classes):\n",
        "        super(NeuralNet, self).__init__()\n",
        "        # Define the first hidden layer\n",
        "        self.l1 = nn.Linear(input_size, hidden_size).to(dtype=torch.float32)  # Fully connected layer\n",
        "        self.relu = nn.ReLU()  # Rectified Linear Unit (ReLU) activation function\n",
        "        # Define the output layer\n",
        "        self.l2 = nn.Linear(hidden_size, num_classes).to(dtype=torch.float32)  # Fully connected layer\n",
        "\n",
        "    def forward(self, x):  # Forward pass through the network\n",
        "        out = self.l1(x)  # Pass input through the first hidden layer\n",
        "        out = self.relu(out)  # Apply ReLU activation\n",
        "        out = self.l2(out)  # Pass through the output layer to get predictions\n",
        "        return out\n",
        "\n",
        "# Create an instance of the neural network model\n",
        "model = NeuralNet(input_size, hidden_size, num_classes)\n"
      ]
    },
    {
      "cell_type": "markdown",
      "metadata": {
        "id": "hgj0UDJziky9"
      },
      "source": [
        "Wie erwartet sind die Gewichte des Neuronalen Netzes vor dem Training zufällig gewählt, so dass die Klassifikation misslingt."
      ]
    },
    {
      "cell_type": "markdown",
      "metadata": {
        "id": "ITU5062Viky9"
      },
      "source": [
        "## Training des Neuronalen Netz"
      ]
    },
    {
      "cell_type": "code",
      "execution_count": 19,
      "metadata": {
        "colab": {
          "base_uri": "https://localhost:8080/"
        },
        "id": "aEKoVx03iky-",
        "outputId": "2964e996-7956-4207-f528-fc87a58baf41"
      },
      "outputs": [
        {
          "name": "stdout",
          "output_type": "stream",
          "text": [
            "Epoch [1/10], Step [100/114], Loss: 0.8082\n",
            "Epoch [2/10], Step [100/114], Loss: 0.5200\n",
            "Epoch [3/10], Step [100/114], Loss: 0.4186\n",
            "Epoch [4/10], Step [100/114], Loss: 0.3630\n",
            "Epoch [5/10], Step [100/114], Loss: 0.3109\n",
            "Epoch [6/10], Step [100/114], Loss: 0.2289\n",
            "Epoch [7/10], Step [100/114], Loss: 0.2482\n",
            "Epoch [8/10], Step [100/114], Loss: 0.2111\n",
            "Epoch [9/10], Step [100/114], Loss: 0.1765\n",
            "Epoch [10/10], Step [100/114], Loss: 0.1443\n"
          ]
        }
      ],
      "source": [
        "# Define the loss function (CrossEntropyLoss) and the optimizer (Adam)\n",
        "criterion = nn.CrossEntropyLoss()  # Loss function for classification problems\n",
        "optimizer = optim.Adam(model.parameters(), lr=learning_rate)  # Adam optimizer with specified learning rate\n",
        "\n",
        "# Train the model\n",
        "total_step = len(train_loader)  # Total number of batches in the training data\n",
        "for epoch in range(num_epochs):  # Loop through each training epoch\n",
        "    for i, (train_data, train_labels) in enumerate(train_loader):  # Loop through each batch of data\n",
        "        # Reshape the input images to have the shape (batch_size, input_size)\n",
        "        train_data = train_data.reshape(-1, 28*28)\n",
        "\n",
        "        # Forward pass: compute predicted outputs by passing inputs to the model\n",
        "        outputs = model(train_data)\n",
        "\n",
        "        # Calculate the loss using the defined criterion (CrossEntropyLoss)\n",
        "        loss = criterion(outputs, train_labels)\n",
        "\n",
        "        # Backward pass and optimization\n",
        "        optimizer.zero_grad()  # Clear gradients from previous steps\n",
        "        loss.backward()  # Perform backpropagation to compute gradients\n",
        "        optimizer.step()  # Update model parameters using the computed gradients\n",
        "\n",
        "        # Print training statistics\n",
        "        if (i+1) % 100 == 0:\n",
        "            print('Epoch [{}/{}], Step [{}/{}], Loss: {:.4f}'\n",
        "                  .format(epoch+1, num_epochs, i+1, total_step, loss.item()))\n"
      ]
    },
    {
      "cell_type": "code",
      "execution_count": 20,
      "metadata": {},
      "outputs": [],
      "source": [
        "# After training the model, save it to a file\n",
        "torch.save(model.state_dict(), 'mymodel.pth')\n"
      ]
    },
    {
      "cell_type": "markdown",
      "metadata": {
        "id": "04AChXxZiky-"
      },
      "source": [
        "## Test des Neuronalen Netzes"
      ]
    },
    {
      "cell_type": "code",
      "execution_count": 21,
      "metadata": {
        "colab": {
          "base_uri": "https://localhost:8080/"
        },
        "id": "3T4jfUH-iky-",
        "outputId": "1bae4f1a-e454-4d04-a663-e0fea0b6019f"
      },
      "outputs": [
        {
          "name": "stdout",
          "output_type": "stream",
          "text": [
            "Balanced Accuracy of the model on test images: 79.82 %\n"
          ]
        }
      ],
      "source": [
        "# Initialize lists to store predictions and ground truth labels\n",
        "p_test = []  # Model predictions of class index\n",
        "y_test = []  # Ground truth class indices\n",
        "\n",
        "# Loop through the test data in batches\n",
        "for images, labels in test_loader:\n",
        "    images = images.reshape(-1, 28*28)  # Reshape input images\n",
        "    images = images.to(dtype=torch.float32)  # Cast images to the correct data type (torch.float32)\n",
        "    outputs = model(images)  # Forward pass to get model predictions\n",
        "    _, predicted = torch.max(outputs.data, 1)  # Get the predicted class for each sample\n",
        "\n",
        "    # Append model predictions and ground truth labels to lists\n",
        "    p_test.extend(predicted.tolist())\n",
        "    y_test.extend(labels.tolist())\n",
        "\n",
        "# Calculate balanced accuracy using the provided implementation\n",
        "accs = []\n",
        "\n",
        "# Loop through each class (in this case, there are 49 classes)\n",
        "for cls in range(49):\n",
        "    # Create a mask to select samples of the current class in the ground truth\n",
        "    mask = (torch.tensor(y_test) == cls)\n",
        "    \n",
        "    # Calculate the accuracy for samples of the current class\n",
        "    cls_acc = (torch.tensor(p_test) == cls)[mask].float().mean()  # Accuracy for rows of class cls\n",
        "    \n",
        "    # Append the class accuracy to the list of accuracies\n",
        "    accs.append(cls_acc)\n",
        "\n",
        "# Calculate the final balanced accuracy by taking the mean of class accuracies\n",
        "balanced_accuracy = torch.tensor(accs).mean().item()\n",
        "\n",
        "# Print the balanced accuracy as a percentage\n",
        "print('Balanced Accuracy of the model on test images: {:.2f} %'.format(100 * balanced_accuracy))\n"
      ]
    },
    {
      "cell_type": "code",
      "execution_count": 25,
      "metadata": {},
      "outputs": [],
      "source": [
        "import tkinter as tk  # Import the tkinter library for creating the GUI\n",
        "import win32gui  # Import win32gui for interacting with the Windows GUI\n",
        "from PIL import ImageGrab, Image  # Import the PIL library for image processing\n",
        "import csv  # Import the CSV library for reading CSV files\n",
        "\n",
        "# Define a function to load the mapping from the CSV file\n",
        "import csv\n",
        "\n",
        "def load_class_mapping(csv_file):\n",
        "    encodings_to_try = ['utf-8', 'latin-1', 'iso-8859-1', 'cp1252']\n",
        "    \n",
        "    for encoding in encodings_to_try:\n",
        "        try:\n",
        "            class_mapping = {}\n",
        "            with open(csv_file, newline='', encoding=encoding) as csvfile:\n",
        "                csvreader = csv.DictReader(csvfile)\n",
        "                for row in csvreader:\n",
        "                    index = int(row['index'])\n",
        "                    char = row['char']\n",
        "                    class_mapping[index] = char\n",
        "            return class_mapping\n",
        "        except UnicodeDecodeError:\n",
        "            continue\n",
        "\n",
        "    raise ValueError(\"Unable to decode the CSV file with any of the specified encodings.\")\n",
        "\n",
        "# Specify the path to your CSV file (e.g., \"k49_classmap.csv\")\n",
        "csv_file_path = 'k49_classmap.csv'\n",
        "\n",
        "# Load the class mapping from the CSV file using the function\n",
        "class_mapping = load_class_mapping(csv_file_path)\n",
        "\n",
        "# Specify the path to your CSV file (e.g., \"k49_classmap.csv\")\n",
        "csv_file_path = 'k49_classmap.csv'\n",
        "\n",
        "# Load the class mapping from the CSV file using the function\n",
        "class_mapping = load_class_mapping(csv_file_path)\n",
        "\n",
        "# Define your neural network model and load pre-trained weights\n",
        "model = NeuralNet(input_size, hidden_size, num_classes)  # Create an instance of the neural network\n",
        "model.load_state_dict(torch.load('mymodel.pth'))  # Load pre-trained weights\n",
        "model.eval()  # Set the model to evaluation mode (no training)\n",
        "\n",
        "# Create a tkinter GUI application\n",
        "class App(tk.Tk):\n",
        "    def __init__(self):\n",
        "        tk.Tk.__init__(self)  # Initialize the tkinter application\n",
        "        self.x = self.y = 0  # Initialize mouse coordinates\n",
        "        self.drawing_area = tk.Canvas(self, width=560, height=560, bg=\"white\", cursor=\"cross\")  # Create a canvas for drawing\n",
        "        self.result_label = tk.Label(self, font=(\"Helvetica\", 24))  # Create a label for displaying recognized character\n",
        "        self.classify_btn = tk.Button(self, text=\"Recognize\", command=self.classify_handwriting)  # Create a button for recognition\n",
        "        self.button_clear = tk.Button(self, text=\"Clear\", command=self.clear_all)  # Create a button to clear the canvas\n",
        "        \n",
        "        # Variables to track drawing\n",
        "        self.drawing = False  # Initialize drawing state\n",
        "        self.last_x = 0  # Initialize last mouse X coordinate\n",
        "        self.last_y = 0  # Initialize last mouse Y coordinate\n",
        "\n",
        "        # Bind mouse events to functions\n",
        "        self.drawing_area.bind(\"<Button-1>\", self.start_drawing)  # Bind left mouse button press to start_drawing function\n",
        "        self.drawing_area.bind(\"<B1-Motion>\", self.draw_lines)  # Bind mouse motion to draw_lines function\n",
        "        self.drawing_area.bind(\"<ButtonRelease-1>\", self.stop_drawing)  # Bind left mouse button release to stop_drawing function\n",
        "\n",
        "        # Grid structure for placing widgets\n",
        "        self.drawing_area.grid(row=0, column=0, pady=2, sticky=tk.W)  # Place the canvas in the grid\n",
        "        self.result_label.grid(row=0, column=1, pady=2, padx=2)  # Place the label in the grid\n",
        "        self.classify_btn.grid(row=1, column=0, pady=2)  # Place the classify button in the grid\n",
        "        self.button_clear.grid(row=2, column=0, pady=2)  # Place the clear button in the grid\n",
        "\n",
        "    def start_drawing(self, event):\n",
        "        self.drawing = True  # Set drawing state to True\n",
        "        self.last_x = event.x  # Record the current mouse X coordinate\n",
        "        self.last_y = event.y  # Record the current mouse Y coordinate\n",
        "\n",
        "    def draw_lines(self, event):\n",
        "        if self.drawing:\n",
        "            x, y = event.x, event.y  # Get the current mouse coordinates\n",
        "            # Create a line from the last recorded coordinates to the current coordinates\n",
        "            self.drawing_area.create_line((self.last_x, self.last_y, x, y), fill=\"black\", width=5)\n",
        "            self.last_x = x  # Update the last X coordinate\n",
        "            self.last_y = y  # Update the last Y coordinate\n",
        "\n",
        "    def stop_drawing(self, event):\n",
        "        self.drawing = False  # Set drawing state to False\n",
        "\n",
        "    def clear_all(self):\n",
        "        self.drawing_area.delete(\"all\")  # Clear the canvas\n",
        "        self.result_label.configure(text=\"\")  # Clear the result label\n",
        "\n",
        "    def classify_handwriting(self):\n",
        "        if self.drawing_area.find_all():\n",
        "            drawn_area = self.drawing_area.bbox(\"all\") # Get the bounding box of all items on the canvas \n",
        "            x1, y1, x2, y2 = drawn_area # Extract the coordinates of the bounding box\n",
        "            # This helps to only take the Region of Intrest\n",
        "            # So if the user only draws in the top-left corner. It does not affect the outcome        \n",
        "            HWND = self.drawing_area.winfo_id()  # Get the window ID of the drawing area\n",
        "            rect = win32gui.GetWindowRect(HWND)  # Get the coordinates of the drawing area\n",
        "            withoutLine = 1\n",
        "            rect = (rect[0] + withoutLine, rect[1] + withoutLine, rect[2] - withoutLine, rect[3] - withoutLine)\n",
        "            im = ImageGrab.grab(rect)  # Capture the screen area within the drawing area        \n",
        "            # Preprocess the image for character recognition\n",
        "            im = im.crop((x1+5, y1+5, x2+5, y2+5)) # Crop the image to a smaller region defined by a new bounding box\n",
        "            im = im.resize((28, 28))  # Resize image to 28x28 pixels\n",
        "            im = im.convert('L')  # Convert RGB to grayscale\n",
        "            im = np.array(im)  # Convert to NumPy array\n",
        "            im = 255 - im\n",
        "            im = im.reshape(-1, 28 * 28)  # Reshape to (1, 784)\n",
        "        # Convert to PyTorch tensor\n",
        "            img_tensor = torch.tensor(im, dtype=torch.float32)\n",
        "        \n",
        "        # Predicting the class\n",
        "            with torch.no_grad():\n",
        "                outputs = model(img_tensor)  # Forward pass to get model predictions\n",
        "\n",
        "    # Get the top 3 predicted classes and their probabilities\n",
        "                _, top_classes = torch.topk(outputs, 3, dim=1)\n",
        "                top_probabilities = torch.softmax(outputs, dim=1)[0, top_classes].numpy()\n",
        "\n",
        "    # Initialize a list to store the top 3 recognized characters and their confidence percentages\n",
        "                top_recognized_chars = []\n",
        "\n",
        "                for i in range(3):\n",
        "                    class_index = top_classes[0, i].item()\n",
        "                    if class_index in class_mapping:\n",
        "                        recognized_char = class_mapping[class_index]\n",
        "                        confidence = top_probabilities[0, i]\n",
        "                        accuracy_percentage = round(confidence * 100, 2)\n",
        "                        top_recognized_chars.append((recognized_char, accuracy_percentage))\n",
        "\n",
        "    # Now, you can update your result_label with the top 3 recognized characters and their percentages\n",
        "                if top_recognized_chars:\n",
        "                    result_text = \"\\n\".join([f\"{char} ({percentage}%)\" for char, percentage in top_recognized_chars])\n",
        "                    self.result_label.configure(text=result_text)\n",
        "                else:\n",
        "                    self.result_label.configure(text=\"No recognized characters found in the mapping\")\n",
        "\n",
        "\n",
        "\n",
        "# Create an instance of the App class\n",
        "app = App()\n",
        "# Run the GUI application\n",
        "app.mainloop()\n"
      ]
    }
  ],
  "metadata": {
    "colab": {
      "provenance": []
    },
    "kernelspec": {
      "display_name": "Python 3",
      "language": "python",
      "name": "python3"
    },
    "language_info": {
      "codemirror_mode": {
        "name": "ipython",
        "version": 3
      },
      "file_extension": ".py",
      "mimetype": "text/x-python",
      "name": "python",
      "nbconvert_exporter": "python",
      "pygments_lexer": "ipython3",
      "version": "3.11.3"
    },
    "orig_nbformat": 4
  },
  "nbformat": 4,
  "nbformat_minor": 0
}
