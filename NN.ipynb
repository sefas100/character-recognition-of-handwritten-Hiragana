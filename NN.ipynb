{
  "cells": [
    {
      "cell_type": "markdown",
      "metadata": {
        "id": "4fsveFS7ikyu"
      },
      "source": [
        "# Klassifikation mit einem Neuronalen Netz\n",
        "\n",
        "## Trainingsdaten"
      ]
    },
    {
      "cell_type": "code",
      "execution_count": 64,
      "metadata": {
        "id": "bWQuIIshiky6"
      },
      "outputs": [],
      "source": [
        "# %pip install torch\n",
        "# %pip install torchvision\n",
        "# %pip install matplotlib"
      ]
    },
    {
      "cell_type": "code",
      "execution_count": 65,
      "metadata": {
        "id": "jux-RX43iky6"
      },
      "outputs": [],
      "source": [
        "# Import necessary libraries/modules\n",
        "from torchvision import datasets, transforms  # Import datasets and transforms from the torchvision library\n",
        "from torch.utils.data import TensorDataset, DataLoader  # Import TensorDataset and DataLoader from torch.utils.data\n",
        "import torch  # Import the main PyTorch library\n",
        "import torch.nn as nn  # Import the neural network module from PyTorch\n",
        "import torch.nn.functional as F  # Import functional components of neural networks from PyTorch\n",
        "import torch.optim as optim  # Import optimization algorithms from PyTorch\n",
        "import matplotlib.pyplot as plt  # Import the matplotlib library for plotting\n",
        "import numpy as np  # Import the NumPy library for numerical operations\n",
        "\n",
        "# Define a function 'load' that loads data from a given file\n",
        "def load(data):\n",
        "    return np.load(data)['arr_0']  # Load data from the specified file using NumPy and return it\n",
        "\n",
        "# Load the training and testing data and labels\n",
        "train_data = load('Data\\K49-data\\k49-train-imgs.npz')  # Load training image data from a file\n",
        "test_data = load('Data\\K49-data\\k49-test-imgs.npz')    # Load testing image data from a file\n",
        "\n",
        "train_labels = load('Data\\K49-data\\k49-train-labels.npz')  # Load training labels from a file\n",
        "test_labels = load('Data\\K49-data\\k49-test-labels.npz')    # Load testing labels from a file\n"
      ]
    },
    {
      "cell_type": "markdown",
      "metadata": {
        "id": "JkdXQsEAiky8"
      },
      "source": [
        "## Definition des Neuronalen Netzes"
      ]
    },
    {
      "cell_type": "code",
      "execution_count": 66,
      "metadata": {
        "id": "YNrh6L-Piky8"
      },
      "outputs": [],
      "source": [
        "# Set parameters for the feedforward neural network\n",
        "input_size = 28*28  # Input size is 784 (assuming image size is 28x28 pixels)\n",
        "hidden_size = 3999  # Number of neurons in the hidden layer\n",
        "num_classes = 49    # Number of output classes (categories)\n",
        "num_epochs = 15     # Number of training epochs\n",
        "batch_size = 2048   # Batch size for data processing\n",
        "learning_rate = 0.001  # Learning rate for the optimizer\n",
        "\n",
        "# Convert the training data to the appropriate data type (float32)\n",
        "train_data = train_data.astype(np.float32)\n",
        "\n",
        "# Combine the training data and labels into a PyTorch TensorDataset\n",
        "dataset = TensorDataset(torch.tensor(train_data), torch.tensor(train_labels))\n",
        "\n",
        "# Create data loaders for training and testing data\n",
        "train_loader = DataLoader(dataset, batch_size=batch_size, shuffle=True)\n",
        "test_loader = DataLoader(dataset, batch_size=batch_size, shuffle=False)\n",
        "\n",
        "# Define the architecture of the neural network\n",
        "class NeuralNet(nn.Module):\n",
        "    def __init__(self, input_size, hidden_size, num_classes):\n",
        "        super(NeuralNet, self).__init__()\n",
        "        # Define the first hidden layer\n",
        "        self.l1 = nn.Linear(input_size, hidden_size).to(dtype=torch.float32)  # Fully connected layer\n",
        "        self.relu = nn.ReLU()  # Rectified Linear Unit (ReLU) activation function\n",
        "        # Define the output layer\n",
        "        self.l2 = nn.Linear(hidden_size, num_classes).to(dtype=torch.float32)  # Fully connected layer\n",
        "\n",
        "    def forward(self, x):  # Forward pass through the network\n",
        "        out = self.l1(x)  # Pass input through the first hidden layer\n",
        "        out = self.relu(out)  # Apply ReLU activation\n",
        "        out = self.l2(out)  # Pass through the output layer to get predictions\n",
        "        return out\n",
        "\n",
        "# Create an instance of the neural network model\n",
        "model = NeuralNet(input_size, hidden_size, num_classes)\n"
      ]
    },
    {
      "cell_type": "markdown",
      "metadata": {
        "id": "hgj0UDJziky9"
      },
      "source": [
        "Wie erwartet sind die Gewichte des Neuronalen Netzes vor dem Training zufällig gewählt, so dass die Klassifikation misslingt."
      ]
    },
    {
      "cell_type": "markdown",
      "metadata": {
        "id": "ITU5062Viky9"
      },
      "source": [
        "## Training des Neuronalen Netz"
      ]
    },
    {
      "cell_type": "code",
      "execution_count": 67,
      "metadata": {
        "colab": {
          "base_uri": "https://localhost:8080/"
        },
        "id": "aEKoVx03iky-",
        "outputId": "2964e996-7956-4207-f528-fc87a58baf41"
      },
      "outputs": [
        {
          "name": "stdout",
          "output_type": "stream",
          "text": [
            "Epoch [1/15], Step [100/114], Loss: 0.9813\n",
            "Epoch [2/15], Step [100/114], Loss: 0.5547\n",
            "Epoch [3/15], Step [100/114], Loss: 0.5478\n",
            "Epoch [4/15], Step [100/114], Loss: 0.3465\n",
            "Epoch [5/15], Step [100/114], Loss: 0.3423\n",
            "Epoch [6/15], Step [100/114], Loss: 0.2657\n",
            "Epoch [7/15], Step [100/114], Loss: 0.2063\n",
            "Epoch [8/15], Step [100/114], Loss: 0.2056\n",
            "Epoch [9/15], Step [100/114], Loss: 0.2087\n",
            "Epoch [10/15], Step [100/114], Loss: 0.1596\n",
            "Epoch [11/15], Step [100/114], Loss: 0.1645\n",
            "Epoch [12/15], Step [100/114], Loss: 0.1442\n",
            "Epoch [13/15], Step [100/114], Loss: 0.1179\n",
            "Epoch [14/15], Step [100/114], Loss: 0.1720\n",
            "Epoch [15/15], Step [100/114], Loss: 0.1665\n"
          ]
        }
      ],
      "source": [
        "# Define the loss function (CrossEntropyLoss) and the optimizer (Adam)\n",
        "criterion = nn.CrossEntropyLoss()  # Loss function for classification problems\n",
        "optimizer = optim.Adam(model.parameters(), lr=learning_rate)  # Adam optimizer with specified learning rate\n",
        "\n",
        "# Train the model\n",
        "total_step = len(train_loader)  # Total number of batches in the training data\n",
        "for epoch in range(num_epochs):  # Loop through each training epoch\n",
        "    for i, (train_data, train_labels) in enumerate(train_loader):  # Loop through each batch of data\n",
        "        # Reshape the input images to have the shape (batch_size, input_size)\n",
        "        train_data = train_data.reshape(-1, 28*28)\n",
        "\n",
        "        # Forward pass: compute predicted outputs by passing inputs to the model\n",
        "        outputs = model(train_data)\n",
        "\n",
        "        # Calculate the loss using the defined criterion (CrossEntropyLoss)\n",
        "        loss = criterion(outputs, train_labels)\n",
        "\n",
        "        # Backward pass and optimization\n",
        "        optimizer.zero_grad()  # Clear gradients from previous steps\n",
        "        loss.backward()  # Perform backpropagation to compute gradients\n",
        "        optimizer.step()  # Update model parameters using the computed gradients\n",
        "\n",
        "        # Print training statistics\n",
        "        if (i+1) % 100 == 0:\n",
        "            print('Epoch [{}/{}], Step [{}/{}], Loss: {:.4f}'\n",
        "                  .format(epoch+1, num_epochs, i+1, total_step, loss.item()))\n"
      ]
    },
    {
      "cell_type": "markdown",
      "metadata": {
        "id": "04AChXxZiky-"
      },
      "source": [
        "## Test des Neuronalen Netzes"
      ]
    },
    {
      "cell_type": "code",
      "execution_count": 68,
      "metadata": {
        "colab": {
          "base_uri": "https://localhost:8080/"
        },
        "id": "3T4jfUH-iky-",
        "outputId": "1bae4f1a-e454-4d04-a663-e0fea0b6019f"
      },
      "outputs": [
        {
          "name": "stdout",
          "output_type": "stream",
          "text": [
            "Test Accuracy of the model on test images: 97.43 %\n"
          ]
        }
      ],
      "source": [
        "# In the test phase, we don't need to compute gradients for memory efficiency\n",
        "with torch.no_grad():\n",
        "    correct = 0  # Initialize the number of correctly predicted samples\n",
        "    total = 0    # Initialize the total number of samples\n",
        "\n",
        "    # Loop through the test data in batches\n",
        "    for images, labels in test_loader:\n",
        "        images = images.reshape(-1, 28*28)  # Reshape input images\n",
        "        outputs = model(images)  # Forward pass to get model predictions\n",
        "        _, predicted = torch.max(outputs.data, 1)  # Get the predicted class for each sample\n",
        "\n",
        "        total += labels.size(0)  # Increment the total count by the batch size\n",
        "        correct += (predicted == labels).sum().item()  # Count correct predictions in this batch\n",
        "\n",
        "    # Calculate and print the test accuracy of the model\n",
        "    print('Test Accuracy of the model on test images: {:.2f} %'.format(100 * correct / total))\n"
      ]
    },
    {
      "cell_type": "markdown",
      "metadata": {},
      "source": [
        "800min\n",
        "hidden_size = 240100\n",
        "\n",
        "num_classes = 49\n",
        "\n",
        "num_epochs = 10\n",
        "\n",
        "batch_size = 500\n",
        "\n",
        "learning_rate = 0.001\n",
        "\n",
        "Accuracy = 1.5587545456501624 %"
      ]
    },
    {
      "cell_type": "markdown",
      "metadata": {},
      "source": [
        "47 min\n",
        "\n",
        "hidden_size = 24010\n",
        "\n",
        "num_classes = 49\n",
        "\n",
        "num_epochs = 10\n",
        "\n",
        "batch_size = 500\n",
        "\n",
        "learning_rate = 0.001\n",
        "\n",
        "Accuracy = 91.28913562713834 %"
      ]
    },
    {
      "cell_type": "code",
      "execution_count": 3,
      "metadata": {},
      "outputs": [
        {
          "name": "stderr",
          "output_type": "stream",
          "text": [
            "Exception in Tkinter callback\n",
            "Traceback (most recent call last):\n",
            "  File \"g:\\Uni\\Jupiter\\lib\\tkinter\\__init__.py\", line 1883, in __call__\n",
            "    return self.func(*args)\n",
            "  File \"<ipython-input-3-6da93233e3d4>\", line 44, in classify_handwriting\n",
            "    digit, acc = predict_digit(im)\n",
            "  File \"<ipython-input-3-6da93233e3d4>\", line 18, in predict_digit\n",
            "    res = model.predict([img])[0]\n",
            "NameError: name 'model' is not defined\n"
          ]
        }
      ],
      "source": [
        "import tkinter as tk\n",
        "import win32gui\n",
        "from PIL import ImageGrab, Image\n",
        "import numpy as np\n",
        "\n",
        "import torch\n",
        "\n",
        "def predict_digit_pytorch(img, model):\n",
        "    # Resize image to 28x28 pixels\n",
        "    img = img.resize((28, 28))\n",
        "    # Convert RGB to grayscale\n",
        "    img = img.convert('L')\n",
        "    img = np.array(img)\n",
        "    # Reshaping and normalizing\n",
        "    img = img.reshape(1, 28 * 28)\n",
        "    img = img / 255.0\n",
        "\n",
        "    # Convert to PyTorch tensor\n",
        "    img_tensor = torch.tensor(img, dtype=torch.float32)\n",
        "\n",
        "    # Predicting the class\n",
        "    with torch.no_grad():\n",
        "        outputs = model(img_tensor)\n",
        "        _, predicted = torch.max(outputs, 1)\n",
        "\n",
        "    return predicted.item()\n",
        "\n",
        "\n",
        "class App(tk.Tk):\n",
        "    def __init__(self):\n",
        "        tk.Tk.__init__(self)\n",
        "        self.x = self.y = 0\n",
        "        # Creating elements\n",
        "        self.canvas = tk.Canvas(self, width=300, height=300, bg=\"white\", cursor=\"cross\")\n",
        "        self.label = tk.Label(self, text=\"Thinking..\", font=(\"Helvetica\", 48))\n",
        "        self.classify_btn = tk.Button(self, text=\"Recognise\", command=self.classify_handwriting)\n",
        "        self.button_clear = tk.Button(self, text=\"Clear\", command=self.clear_all)\n",
        "        # Grid structure\n",
        "        self.canvas.grid(row=0, column=0, pady=2, sticky=tk.W)\n",
        "        self.label.grid(row=0, column=1, pady=2, padx=2)\n",
        "        self.classify_btn.grid(row=1, column=1, pady=2, padx=2)\n",
        "        self.button_clear.grid(row=1, column=0, pady=2)\n",
        "        self.canvas.bind(\"<B1-Motion>\", self.draw_lines)\n",
        "\n",
        "    def clear_all(self):\n",
        "        self.canvas.delete(\"all\")\n",
        "\n",
        "    def classify_handwriting(self):\n",
        "        HWND = self.canvas.winfo_id()  # Get the handle of the canvas\n",
        "        rect = win32gui.GetWindowRect(HWND)  # Get the coordinate of the canvas\n",
        "        im = ImageGrab.grab(rect)\n",
        "        digit = predict_digit_pytorch(im, model)\n",
        "        self.label.configure(text=str(digit))\n",
        "\n",
        "\n",
        "    def draw_lines(self, event):\n",
        "        self.x = event.x\n",
        "        self.y = event.y\n",
        "        r = 8\n",
        "        self.canvas.create_oval(self.x - r, self.y - r, self.x + r, self.y + r, fill='black')\n",
        "\n",
        "app = App()\n",
        "app.mainloop()\n"
      ]
    },
    {
      "cell_type": "markdown",
      "metadata": {},
      "source": []
    }
  ],
  "metadata": {
    "colab": {
      "provenance": []
    },
    "kernelspec": {
      "display_name": "Python 3",
      "language": "python",
      "name": "python3"
    },
    "language_info": {
      "codemirror_mode": {
        "name": "ipython",
        "version": 3
      },
      "file_extension": ".py",
      "mimetype": "text/x-python",
      "name": "python",
      "nbconvert_exporter": "python",
      "pygments_lexer": "ipython3",
      "version": "3.8.5"
    },
    "orig_nbformat": 4
  },
  "nbformat": 4,
  "nbformat_minor": 0
}
