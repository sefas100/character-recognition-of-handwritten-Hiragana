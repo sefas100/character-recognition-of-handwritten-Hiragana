{
  "cells": [
    {
      "cell_type": "markdown",
      "metadata": {
        "id": "4fsveFS7ikyu"
      },
      "source": [
        "# Klassifikation mit einem Neuronalen Netz\n",
        "\n",
        "## Trainingsdaten"
      ]
    },
    {
      "cell_type": "code",
      "execution_count": 27,
      "metadata": {
        "id": "bWQuIIshiky6"
      },
      "outputs": [],
      "source": [
        "# %pip install torch\n",
        "# %pip install torchvision\n",
        "# %pip install matplotlib"
      ]
    },
    {
      "cell_type": "code",
      "execution_count": 60,
      "metadata": {
        "id": "jux-RX43iky6"
      },
      "outputs": [],
      "source": [
        "# Import necessary libraries/modules\n",
        "from torchvision import datasets, transforms  # Import datasets and transforms from the torchvision library\n",
        "from torch.utils.data import TensorDataset, DataLoader  # Import TensorDataset and DataLoader from torch.utils.data\n",
        "import torch  # Import the main PyTorch library\n",
        "import torch.nn as nn  # Import the neural network module from PyTorch\n",
        "import torch.nn.functional as F  # Import functional components of neural networks from PyTorch\n",
        "import torch.optim as optim  # Import optimization algorithms from PyTorch\n",
        "import matplotlib.pyplot as plt  # Import the matplotlib library for plotting\n",
        "import numpy as np  # Import the NumPy library for numerical operations\n",
        "\n",
        "# Define a function 'load' that loads data from a given file\n",
        "def load(data):\n",
        "    return np.load(data)['arr_0']  # Load data from the specified file using NumPy and return it\n",
        "\n",
        "# Load the training and testing data and labels\n",
        "train_data = load('Data\\K49-data\\k49-train-imgs.npz')  # Load training image data from a file\n",
        "test_data = load('Data\\K49-data\\k49-test-imgs.npz')    # Load testing image data from a file\n",
        "\n",
        "train_labels = load('Data\\K49-data\\k49-train-labels.npz')  # Load training labels from a file\n",
        "test_labels = load('Data\\K49-data\\k49-test-labels.npz')    # Load testing labels from a file\n"
      ]
    },
    {
      "cell_type": "code",
      "execution_count": 36,
      "metadata": {},
      "outputs": [],
      "source": [
        "# Import the csv module for working with CSV files\n",
        "import csv\n",
        "\n",
        "# Define a function to load the mapping from the CSV file\n",
        "def load_class_mapping(csv_file):\n",
        "    class_mapping = {}  # Initialize an empty dictionary to store the mapping\n",
        "\n",
        "    # Open the CSV file specified by csv_file for reading\n",
        "    with open(csv_file, newline='') as csvfile:\n",
        "        # Create a CSV reader object that treats the first row as headers and maps columns to keys\n",
        "        csvreader = csv.DictReader(csvfile)\n",
        "\n",
        "        # Iterate through each row (record) in the CSV file\n",
        "        for row in csvreader:\n",
        "            # Extract the 'index' value from the current row and convert it to an integer\n",
        "            index = int(row['index'])\n",
        "\n",
        "            # Extract the 'char' value from the current row\n",
        "            char = row['char']\n",
        "\n",
        "            # Add an entry to the class_mapping dictionary, mapping index to char\n",
        "            class_mapping[index] = char\n",
        "\n",
        "    # Return the populated class_mapping dictionary containing the mapping from index to char\n",
        "    return class_mapping\n",
        "\n",
        "# Specify the path to your CSV file (e.g., \"k49_classmap.csv\")\n",
        "csv_file_path = 'k49_classmap.csv'\n",
        "\n",
        "# Load the class mapping from the specified CSV file by calling the load_class_mapping function\n",
        "class_mapping = load_class_mapping(csv_file_path)\n"
      ]
    },
    {
      "cell_type": "code",
      "execution_count": 38,
      "metadata": {},
      "outputs": [
        {
          "name": "stdout",
          "output_type": "stream",
          "text": [
            "Class index 15 corresponds to character: た\n"
          ]
        }
      ],
      "source": [
        "# Define the class index you want to look up\n",
        "class_index = 15\n",
        "\n",
        "# Check if the class index exists in the class_mapping dictionary\n",
        "if class_index in class_mapping:\n",
        "    # If it exists, retrieve the corresponding character label\n",
        "    character = class_mapping[class_index]\n",
        "\n",
        "    # Print the result\n",
        "    print(f\"Class index {class_index} corresponds to character: {character}\")\n",
        "else:\n",
        "    # If it doesn't exist, print a message indicating that it was not found\n",
        "    print(f\"Class index {class_index} not found in the mapping.\")\n"
      ]
    },
    {
      "cell_type": "markdown",
      "metadata": {
        "id": "JkdXQsEAiky8"
      },
      "source": [
        "## Definition des Neuronalen Netzes"
      ]
    },
    {
      "cell_type": "code",
      "execution_count": 29,
      "metadata": {
        "id": "YNrh6L-Piky8"
      },
      "outputs": [],
      "source": [
        "# Set parameters for the feedforward neural network\n",
        "input_size = 28*28  # Input size is 784 (assuming image size is 28x28 pixels)\n",
        "hidden_size = 4900  # Number of neurons in the hidden layer\n",
        "num_classes = 49    # Number of output classes (categories)\n",
        "num_epochs = 10     # Number of training epochs\n",
        "batch_size = 1024   # Batch size for data processing\n",
        "learning_rate = 0.001  # Learning rate for the optimizer\n",
        "\n",
        "# Convert the training data to the appropriate data type (float32)\n",
        "train_data = train_data.astype(np.float32)\n",
        "\n",
        "# Combine the training data and labels into a PyTorch TensorDataset\n",
        "train_dataset = TensorDataset(torch.tensor(train_data), torch.tensor(train_labels))\n",
        "test_dataset = TensorDataset(torch.tensor(test_data), torch.tensor(test_labels))\n",
        "\n",
        "# Create data loaders for training and testing data\n",
        "train_loader = DataLoader(train_dataset, batch_size=batch_size, shuffle=True)\n",
        "test_loader = DataLoader(test_dataset, batch_size=batch_size, shuffle=False)\n",
        "\n",
        "# Define the architecture of the neural network\n",
        "class NeuralNet(nn.Module):\n",
        "    def __init__(self, input_size, hidden_size, num_classes):\n",
        "        super(NeuralNet, self).__init__()\n",
        "        # Define the first hidden layer\n",
        "        self.l1 = nn.Linear(input_size, hidden_size).to(dtype=torch.float32)  # Fully connected layer\n",
        "        self.relu = nn.ReLU()  # Rectified Linear Unit (ReLU) activation function\n",
        "        # Define the output layer\n",
        "        self.l2 = nn.Linear(hidden_size, num_classes).to(dtype=torch.float32)  # Fully connected layer\n",
        "\n",
        "    def forward(self, x):  # Forward pass through the network\n",
        "        out = self.l1(x)  # Pass input through the first hidden layer\n",
        "        out = self.relu(out)  # Apply ReLU activation\n",
        "        out = self.l2(out)  # Pass through the output layer to get predictions\n",
        "        return out\n",
        "\n",
        "# Create an instance of the neural network model\n",
        "model = NeuralNet(input_size, hidden_size, num_classes)\n"
      ]
    },
    {
      "cell_type": "markdown",
      "metadata": {
        "id": "hgj0UDJziky9"
      },
      "source": [
        "Wie erwartet sind die Gewichte des Neuronalen Netzes vor dem Training zufällig gewählt, so dass die Klassifikation misslingt."
      ]
    },
    {
      "cell_type": "markdown",
      "metadata": {
        "id": "ITU5062Viky9"
      },
      "source": [
        "## Training des Neuronalen Netz"
      ]
    },
    {
      "cell_type": "code",
      "execution_count": 30,
      "metadata": {
        "colab": {
          "base_uri": "https://localhost:8080/"
        },
        "id": "aEKoVx03iky-",
        "outputId": "2964e996-7956-4207-f528-fc87a58baf41"
      },
      "outputs": [
        {
          "name": "stdout",
          "output_type": "stream",
          "text": [
            "Epoch [1/15], Step [100/114], Loss: 0.8871\n",
            "Epoch [2/15], Step [100/114], Loss: 0.5584\n",
            "Epoch [3/15], Step [100/114], Loss: 0.4728\n",
            "Epoch [4/15], Step [100/114], Loss: 0.4030\n",
            "Epoch [5/15], Step [100/114], Loss: 0.2982\n",
            "Epoch [6/15], Step [100/114], Loss: 0.3509\n",
            "Epoch [7/15], Step [100/114], Loss: 0.2544\n",
            "Epoch [8/15], Step [100/114], Loss: 0.2050\n",
            "Epoch [9/15], Step [100/114], Loss: 0.2095\n",
            "Epoch [10/15], Step [100/114], Loss: 0.2201\n",
            "Epoch [11/15], Step [100/114], Loss: 0.1819\n",
            "Epoch [12/15], Step [100/114], Loss: 0.1789\n",
            "Epoch [13/15], Step [100/114], Loss: 0.1621\n",
            "Epoch [14/15], Step [100/114], Loss: 0.1568\n",
            "Epoch [15/15], Step [100/114], Loss: 0.1247\n"
          ]
        }
      ],
      "source": [
        "# Define the loss function (CrossEntropyLoss) and the optimizer (Adam)\n",
        "criterion = nn.CrossEntropyLoss()  # Loss function for classification problems\n",
        "optimizer = optim.Adam(model.parameters(), lr=learning_rate)  # Adam optimizer with specified learning rate\n",
        "\n",
        "# Train the model\n",
        "total_step = len(train_loader)  # Total number of batches in the training data\n",
        "for epoch in range(num_epochs):  # Loop through each training epoch\n",
        "    for i, (train_data, train_labels) in enumerate(train_loader):  # Loop through each batch of data\n",
        "        # Reshape the input images to have the shape (batch_size, input_size)\n",
        "        train_data = train_data.reshape(-1, 28*28)\n",
        "\n",
        "        # Forward pass: compute predicted outputs by passing inputs to the model\n",
        "        outputs = model(train_data)\n",
        "\n",
        "        # Calculate the loss using the defined criterion (CrossEntropyLoss)\n",
        "        loss = criterion(outputs, train_labels)\n",
        "\n",
        "        # Backward pass and optimization\n",
        "        optimizer.zero_grad()  # Clear gradients from previous steps\n",
        "        loss.backward()  # Perform backpropagation to compute gradients\n",
        "        optimizer.step()  # Update model parameters using the computed gradients\n",
        "\n",
        "        # Print training statistics\n",
        "        if (i+1) % 100 == 0:\n",
        "            print('Epoch [{}/{}], Step [{}/{}], Loss: {:.4f}'\n",
        "                  .format(epoch+1, num_epochs, i+1, total_step, loss.item()))\n"
      ]
    },
    {
      "cell_type": "code",
      "execution_count": 31,
      "metadata": {},
      "outputs": [],
      "source": [
        "# After training the model, save it to a file\n",
        "torch.save(model.state_dict(), 'mymodel.pth')\n"
      ]
    },
    {
      "cell_type": "markdown",
      "metadata": {
        "id": "04AChXxZiky-"
      },
      "source": [
        "## Test des Neuronalen Netzes"
      ]
    },
    {
      "cell_type": "code",
      "execution_count": 44,
      "metadata": {
        "colab": {
          "base_uri": "https://localhost:8080/"
        },
        "id": "3T4jfUH-iky-",
        "outputId": "1bae4f1a-e454-4d04-a663-e0fea0b6019f"
      },
      "outputs": [
        {
          "name": "stdout",
          "output_type": "stream",
          "text": [
            "Balanced Accuracy of the model on test images: 80.07 %\n"
          ]
        }
      ],
      "source": [
        "# Initialize lists to store predictions and ground truth labels\n",
        "p_test = []  # Model predictions of class index\n",
        "y_test = []  # Ground truth class indices\n",
        "\n",
        "# Loop through the test data in batches\n",
        "for images, labels in test_loader:\n",
        "    images = images.reshape(-1, 28*28)  # Reshape input images\n",
        "    images = images.to(dtype=torch.float32)  # Cast images to the correct data type (torch.float32)\n",
        "    outputs = model(images)  # Forward pass to get model predictions\n",
        "    _, predicted = torch.max(outputs.data, 1)  # Get the predicted class for each sample\n",
        "\n",
        "    # Append model predictions and ground truth labels to lists\n",
        "    p_test.extend(predicted.tolist())\n",
        "    y_test.extend(labels.tolist())\n",
        "\n",
        "# Calculate balanced accuracy using the provided implementation\n",
        "accs = []\n",
        "\n",
        "# Loop through each class (in this case, there are 49 classes)\n",
        "for cls in range(49):\n",
        "    # Create a mask to select samples of the current class in the ground truth\n",
        "    mask = (torch.tensor(y_test) == cls)\n",
        "    \n",
        "    # Calculate the accuracy for samples of the current class\n",
        "    cls_acc = (torch.tensor(p_test) == cls)[mask].float().mean()  # Accuracy for rows of class cls\n",
        "    \n",
        "    # Append the class accuracy to the list of accuracies\n",
        "    accs.append(cls_acc)\n",
        "\n",
        "# Calculate the final balanced accuracy by taking the mean of class accuracies\n",
        "balanced_accuracy = torch.tensor(accs).mean().item()\n",
        "\n",
        "# Print the balanced accuracy as a percentage\n",
        "print('Balanced Accuracy of the model on test images: {:.2f} %'.format(100 * balanced_accuracy))\n"
      ]
    },
    {
      "cell_type": "code",
      "execution_count": 59,
      "metadata": {},
      "outputs": [],
      "source": [
        "import tkinter as tk  # Import the tkinter library for creating the GUI\n",
        "import win32gui  # Import win32gui for interacting with the Windows GUI\n",
        "from PIL import ImageGrab, Image  # Import the PIL library for image processing\n",
        "import csv  # Import the CSV library for reading CSV files\n",
        "\n",
        "# Define a function to load the mapping from the CSV file\n",
        "def load_class_mapping(csv_file):\n",
        "    # Initialize an empty dictionary to store the mapping\n",
        "    class_mapping = {}\n",
        "\n",
        "    # Open the CSV file for reading\n",
        "    with open(csv_file, newline='') as csvfile:\n",
        "        csvreader = csv.DictReader(csvfile)  # Create a CSV reader\n",
        "        for row in csvreader:\n",
        "            index = int(row['index'])  # Extract the index from the CSV\n",
        "            char = row['char']  # Extract the character from the CSV\n",
        "            class_mapping[index] = char  # Map index to character\n",
        "\n",
        "    return class_mapping  # Return the loaded class mapping\n",
        "\n",
        "# Specify the path to your CSV file (e.g., \"k49_classmap.csv\")\n",
        "csv_file_path = 'k49_classmap.csv'\n",
        "\n",
        "# Load the class mapping from the CSV file using the function\n",
        "class_mapping = load_class_mapping(csv_file_path)\n",
        "\n",
        "# Define your neural network model and load pre-trained weights\n",
        "model = NeuralNet(input_size, hidden_size, num_classes)  # Create an instance of the neural network\n",
        "model.load_state_dict(torch.load('mymodel.pth'))  # Load pre-trained weights\n",
        "model.eval()  # Set the model to evaluation mode (no training)\n",
        "\n",
        "# Create a tkinter GUI application\n",
        "class App(tk.Tk):\n",
        "    def __init__(self):\n",
        "        tk.Tk.__init__(self)  # Initialize the tkinter application\n",
        "        self.x = self.y = 0  # Initialize mouse coordinates\n",
        "        self.drawing_area = tk.Canvas(self, width=300, height=300, bg=\"white\", cursor=\"cross\")  # Create a canvas for drawing\n",
        "        self.label = tk.Label(self, text=\"Recognized Character:\", font=(\"Helvetica\", 24))  # Create a label for displaying recognized character\n",
        "        self.result_label = tk.Label(self, text=\"\", font=(\"Helvetica\", 48))  # Create a label for displaying the result\n",
        "        self.classify_btn = tk.Button(self, text=\"Recognize\", command=self.classify_handwriting)  # Create a button for recognition\n",
        "        self.button_clear = tk.Button(self, text=\"Clear\", command=self.clear_all)  # Create a button to clear the canvas\n",
        "        \n",
        "        # Variables to track drawing\n",
        "        self.drawing = False  # Initialize drawing state\n",
        "        self.last_x = 0  # Initialize last mouse X coordinate\n",
        "        self.last_y = 0  # Initialize last mouse Y coordinate\n",
        "\n",
        "        # Bind mouse events to functions\n",
        "        self.drawing_area.bind(\"<Button-1>\", self.start_drawing)  # Bind left mouse button press to start_drawing function\n",
        "        self.drawing_area.bind(\"<B1-Motion>\", self.draw_lines)  # Bind mouse motion to draw_lines function\n",
        "        self.drawing_area.bind(\"<ButtonRelease-1>\", self.stop_drawing)  # Bind left mouse button release to stop_drawing function\n",
        "\n",
        "        # Grid structure for placing widgets\n",
        "        self.drawing_area.grid(row=0, column=0, pady=2, sticky=tk.W)  # Place the canvas in the grid\n",
        "        self.label.grid(row=0, column=1, pady=2, padx=2)  # Place the label in the grid\n",
        "        self.result_label.grid(row=1, column=1, pady=10, padx=10)  # Place the result label in the grid\n",
        "        self.classify_btn.grid(row=1, column=0, pady=2)  # Place the classify button in the grid\n",
        "        self.button_clear.grid(row=2, column=0, pady=2)  # Place the clear button in the grid\n",
        "\n",
        "    def start_drawing(self, event):\n",
        "        self.drawing = True  # Set drawing state to True\n",
        "        self.last_x = event.x  # Record the current mouse X coordinate\n",
        "        self.last_y = event.y  # Record the current mouse Y coordinate\n",
        "\n",
        "    def draw_lines(self, event):\n",
        "        if self.drawing:\n",
        "            x, y = event.x, event.y  # Get the current mouse coordinates\n",
        "            # Create a line from the last recorded coordinates to the current coordinates\n",
        "            self.drawing_area.create_line((self.last_x, self.last_y, x, y), fill=\"black\", width=5)\n",
        "            self.last_x = x  # Update the last X coordinate\n",
        "            self.last_y = y  # Update the last Y coordinate\n",
        "\n",
        "    def stop_drawing(self, event):\n",
        "        self.drawing = False  # Set drawing state to False\n",
        "\n",
        "    def clear_all(self):\n",
        "        self.drawing_area.delete(\"all\")  # Clear the canvas\n",
        "        self.result_label.configure(text=\"\")  # Clear the result label\n",
        "\n",
        "    def classify_handwriting(self):\n",
        "        HWND = self.drawing_area.winfo_id()  # Get the window ID of the drawing area\n",
        "        rect = win32gui.GetWindowRect(HWND)  # Get the coordinates of the drawing area\n",
        "        im = ImageGrab.grab(rect)  # Capture the screen area within the drawing area\n",
        "\n",
        "        # Preprocess the image for character recognition\n",
        "        im = im.resize((28, 28))  # Resize image to 28x28 pixels\n",
        "        im = im.convert('L')  # Convert RGB to grayscale\n",
        "        im = np.array(im)  # Convert to NumPy array\n",
        "        im = im.reshape(1, 28 * 28)  # Reshape to (1, 784)\n",
        "        im = im / 255.0  # Normalize pixel values to the range [0, 1]\n",
        "\n",
        "        # Convert to PyTorch tensor\n",
        "        img_tensor = torch.tensor(im, dtype=torch.float32)\n",
        "\n",
        "        # Predicting the class\n",
        "        with torch.no_grad():\n",
        "            outputs = model(img_tensor)  # Forward pass to get model predictions\n",
        "            _, predicted = torch.max(outputs, 1)  # Get the predicted class\n",
        "\n",
        "            # Map the predicted class index to a Japanese character using class_mapping\n",
        "            class_index = predicted.item()\n",
        "            if class_index in class_mapping:\n",
        "                recognized_char = class_mapping[class_index]  # Get the recognized character\n",
        "                self.result_label.configure(text=recognized_char)  # Display the recognized character\n",
        "            else:\n",
        "                self.result_label.configure(text=f\"Class index {class_index} not found in the mapping.\")  # Display a message if class index is not found\n",
        "\n",
        "# Create an instance of the App class\n",
        "app = App()\n",
        "\n",
        "# Run the GUI application\n",
        "app.mainloop()\n"
      ]
    }
  ],
  "metadata": {
    "colab": {
      "provenance": []
    },
    "kernelspec": {
      "display_name": "Python 3",
      "language": "python",
      "name": "python3"
    },
    "language_info": {
      "codemirror_mode": {
        "name": "ipython",
        "version": 3
      },
      "file_extension": ".py",
      "mimetype": "text/x-python",
      "name": "python",
      "nbconvert_exporter": "python",
      "pygments_lexer": "ipython3",
      "version": "3.8.5"
    },
    "orig_nbformat": 4
  },
  "nbformat": 4,
  "nbformat_minor": 0
}
